{
 "cells": [
  {
   "cell_type": "code",
   "execution_count": 248,
   "id": "8a8463e0",
   "metadata": {},
   "outputs": [],
   "source": [
    "import pandas as pd\n",
    "import numpy as np\n",
    "\n",
    "import seaborn as sns\n",
    "import matplotlib.pyplot as plt\n",
    "\n",
    "from sklearn.model_selection import train_test_split\n",
    "from sklearn.preprocessing import LabelEncoder,minmax_scale,scale\n",
    "from sklearn.metrics import mean_absolute_error,mean_squared_error\n",
    "from sklearn import metrics\n",
    "from sklearn.linear_model import LinearRegression\n",
    "from sklearn.preprocessing import StandardScaler\n",
    "from sklearn.tree import DecisionTreeRegressor\n",
    "from sklearn.ensemble import RandomForestRegressor, AdaBoostRegressor, GradientBoostingRegressor\n",
    "from xgboost.sklearn import XGBRegressor\n",
    "\n",
    "import warnings\n",
    "warnings.filterwarnings('always')\n",
    "warnings.filterwarnings('ignore')"
   ]
  },
  {
   "cell_type": "code",
   "execution_count": 188,
   "id": "8e21b8b2",
   "metadata": {},
   "outputs": [],
   "source": [
    "submission = pd.read_csv('C:/Users/CHANDRIKA SELVAMANI/Desktop/Data Science/Dataset/Analytics vidhya/Black friday sales/sample_submission_V9Inaty.csv')\n",
    "\n",
    "submission['User_ID'] = test['User_ID']\n",
    "submission['Product_ID'] = test['Product_ID']"
   ]
  },
  {
   "cell_type": "code",
   "execution_count": 189,
   "id": "d4b7041d",
   "metadata": {},
   "outputs": [],
   "source": [
    "train= pd.read_csv(\"C:/Users/CHANDRIKA SELVAMANI/Desktop/Data Science/Dataset/Analytics vidhya/Black friday sales/train.csv\")\n",
    "test= pd.read_csv(\"C:/Users/CHANDRIKA SELVAMANI/Desktop/Data Science/Dataset/Analytics vidhya/Black friday sales/test.csv\")"
   ]
  },
  {
   "cell_type": "markdown",
   "id": "70813793",
   "metadata": {},
   "source": [
    "#### Creating a copy of the dataset"
   ]
  },
  {
   "cell_type": "code",
   "execution_count": 190,
   "id": "c88ada94",
   "metadata": {},
   "outputs": [],
   "source": [
    "train_copy=train.copy()\n",
    "test_copy=test.copy()"
   ]
  },
  {
   "cell_type": "markdown",
   "id": "ad1f1c15",
   "metadata": {},
   "source": [
    "#### Checking for the shape of dataset"
   ]
  },
  {
   "cell_type": "code",
   "execution_count": 191,
   "id": "33a1d9ed",
   "metadata": {},
   "outputs": [
    {
     "data": {
      "text/plain": [
       "((550068, 12), (233599, 11))"
      ]
     },
     "execution_count": 191,
     "metadata": {},
     "output_type": "execute_result"
    }
   ],
   "source": [
    "train_copy.shape,test_copy.shape"
   ]
  },
  {
   "cell_type": "markdown",
   "id": "a2177a22",
   "metadata": {},
   "source": [
    "#### Checking for missing values"
   ]
  },
  {
   "cell_type": "code",
   "execution_count": 192,
   "id": "6f4e9403",
   "metadata": {},
   "outputs": [
    {
     "data": {
      "text/plain": [
       "User_ID                        0.000000\n",
       "Product_ID                     0.000000\n",
       "Gender                         0.000000\n",
       "Age                            0.000000\n",
       "Occupation                     0.000000\n",
       "City_Category                  0.000000\n",
       "Stay_In_Current_City_Years     0.000000\n",
       "Marital_Status                 0.000000\n",
       "Product_Category_1             0.000000\n",
       "Product_Category_2            31.566643\n",
       "Product_Category_3            69.672659\n",
       "Purchase                       0.000000\n",
       "dtype: float64"
      ]
     },
     "execution_count": 192,
     "metadata": {},
     "output_type": "execute_result"
    }
   ],
   "source": [
    "train_copy.isna().sum()/train_copy.shape[0]*100"
   ]
  },
  {
   "cell_type": "code",
   "execution_count": 193,
   "id": "2be47568",
   "metadata": {},
   "outputs": [
    {
     "data": {
      "text/plain": [
       "User_ID                        0.000000\n",
       "Product_ID                     0.000000\n",
       "Gender                         0.000000\n",
       "Age                            0.000000\n",
       "Occupation                     0.000000\n",
       "City_Category                  0.000000\n",
       "Stay_In_Current_City_Years     0.000000\n",
       "Marital_Status                 0.000000\n",
       "Product_Category_1             0.000000\n",
       "Product_Category_2            30.969311\n",
       "Product_Category_3            69.590195\n",
       "dtype: float64"
      ]
     },
     "execution_count": 193,
     "metadata": {},
     "output_type": "execute_result"
    }
   ],
   "source": [
    "test_copy.isna().sum()/test_copy.shape[0]*100"
   ]
  },
  {
   "cell_type": "raw",
   "id": "c3a98798",
   "metadata": {},
   "source": [
    "It has been found that  Product_Category_2,Product_Category_3 contributes almost 31% and 70% of the missing values in the data set respectively."
   ]
  },
  {
   "cell_type": "markdown",
   "id": "a18fcbf2",
   "metadata": {},
   "source": [
    "#### Identifying categorical and numerical variables"
   ]
  },
  {
   "cell_type": "code",
   "execution_count": 194,
   "id": "65d0c936",
   "metadata": {},
   "outputs": [
    {
     "name": "stdout",
     "output_type": "stream",
     "text": [
      "Categorical variables in train data: 5\n",
      "Numerical variables in train data: 7\n"
     ]
    }
   ],
   "source": [
    "categorical_train=train_copy.select_dtypes(include=[np.object])\n",
    "print(\"Categorical variables in train data:\",categorical_train.shape[1])\n",
    "numerical_train=train_copy.select_dtypes(include=[np.float64,np.int64])\n",
    "print(\"Numerical variables in train data:\",numerical_train.shape[1])"
   ]
  },
  {
   "cell_type": "code",
   "execution_count": 195,
   "id": "7d3377c3",
   "metadata": {},
   "outputs": [
    {
     "name": "stdout",
     "output_type": "stream",
     "text": [
      "Categorical variables in test data: 5\n",
      "Numerical variables in test data: 6\n"
     ]
    }
   ],
   "source": [
    "categorical_test=test_copy.select_dtypes(include=[np.object])\n",
    "print(\"Categorical variables in test data:\",categorical_test.shape[1])\n",
    "numerical_test=test_copy.select_dtypes(include=[np.float64,np.int64])\n",
    "print(\"Numerical variables in test data:\",numerical_test.shape[1])"
   ]
  },
  {
   "cell_type": "raw",
   "id": "32327314",
   "metadata": {},
   "source": [
    "It has been found that there are 5 categorical variables and 7 numerical variables present in train data. And it has been found that test data has 5 categorical variables and 6 numerical variables"
   ]
  },
  {
   "cell_type": "code",
   "execution_count": 196,
   "id": "62f91068",
   "metadata": {},
   "outputs": [
    {
     "data": {
      "text/plain": [
       "User_ID                         int64\n",
       "Product_ID                     object\n",
       "Gender                         object\n",
       "Age                            object\n",
       "Occupation                      int64\n",
       "City_Category                  object\n",
       "Stay_In_Current_City_Years     object\n",
       "Marital_Status                  int64\n",
       "Product_Category_1              int64\n",
       "Product_Category_2            float64\n",
       "Product_Category_3            float64\n",
       "Purchase                        int64\n",
       "dtype: object"
      ]
     },
     "execution_count": 196,
     "metadata": {},
     "output_type": "execute_result"
    }
   ],
   "source": [
    "train_copy.dtypes"
   ]
  },
  {
   "cell_type": "code",
   "execution_count": 197,
   "id": "fe49ecd0",
   "metadata": {},
   "outputs": [
    {
     "data": {
      "text/plain": [
       "User_ID                         int64\n",
       "Product_ID                     object\n",
       "Gender                         object\n",
       "Age                            object\n",
       "Occupation                      int64\n",
       "City_Category                  object\n",
       "Stay_In_Current_City_Years     object\n",
       "Marital_Status                  int64\n",
       "Product_Category_1              int64\n",
       "Product_Category_2            float64\n",
       "Product_Category_3            float64\n",
       "dtype: object"
      ]
     },
     "execution_count": 197,
     "metadata": {},
     "output_type": "execute_result"
    }
   ],
   "source": [
    "test_copy.dtypes"
   ]
  },
  {
   "cell_type": "markdown",
   "id": "92bc3ad6",
   "metadata": {},
   "source": [
    "### Data Cleaning"
   ]
  },
  {
   "cell_type": "markdown",
   "id": "1c21cf4e",
   "metadata": {},
   "source": [
    "#### Missing value imputation"
   ]
  },
  {
   "cell_type": "markdown",
   "id": "d8e22e2f",
   "metadata": {},
   "source": [
    "##### Check for outliers"
   ]
  },
  {
   "cell_type": "code",
   "execution_count": 198,
   "id": "f06022c0",
   "metadata": {},
   "outputs": [
    {
     "data": {
      "text/plain": [
       "User_ID                            0\n",
       "Product_ID                         0\n",
       "Gender                             0\n",
       "Age                                0\n",
       "Occupation                         0\n",
       "City_Category                      0\n",
       "Stay_In_Current_City_Years         0\n",
       "Marital_Status                     0\n",
       "Product_Category_1                 0\n",
       "Product_Category_2            173638\n",
       "Product_Category_3            383247\n",
       "Purchase                           0\n",
       "dtype: int64"
      ]
     },
     "execution_count": 198,
     "metadata": {},
     "output_type": "execute_result"
    }
   ],
   "source": [
    "train_copy.isna().sum()"
   ]
  },
  {
   "cell_type": "code",
   "execution_count": 199,
   "id": "d16f3ebb",
   "metadata": {},
   "outputs": [
    {
     "data": {
      "text/plain": [
       "<AxesSubplot:xlabel='Product_Category_2'>"
      ]
     },
     "execution_count": 199,
     "metadata": {},
     "output_type": "execute_result"
    },
    {
     "data": {
      "image/png": "[encoded data removed]",
      "text/plain": [
       "<Figure size 576x360 with 1 Axes>"
      ]
     },
     "metadata": {
      "needs_background": "light"
     },
     "output_type": "display_data"
    }
   ],
   "source": [
    "plt.figure(figsize=(8,5))\n",
    "sns.boxplot('Product_Category_2',data=train_copy,palette='twilight')"
   ]
  },
  {
   "cell_type": "code",
   "execution_count": 200,
   "id": "6fe5fd1d",
   "metadata": {},
   "outputs": [
    {
     "data": {
      "text/plain": [
       "<AxesSubplot:xlabel='Product_Category_3'>"
      ]
     },
     "execution_count": 200,
     "metadata": {},
     "output_type": "execute_result"
    },
    {
     "data": {
      "image/png": "[encoded data removed]",
      "text/plain": [
       "<Figure size 576x360 with 1 Axes>"
      ]
     },
     "metadata": {
      "needs_background": "light"
     },
     "output_type": "display_data"
    }
   ],
   "source": [
    "plt.figure(figsize=(8,5))\n",
    "sns.boxplot('Product_Category_3',data=train_copy,palette='twilight')"
   ]
  },
  {
   "cell_type": "raw",
   "id": "3dac53a8",
   "metadata": {},
   "source": [
    "As there is no ouliers present in the data we can impute the missing values to the train data for Product_Category_2 using mean as the data type here is numerical"
   ]
  },
  {
   "cell_type": "code",
   "execution_count": 201,
   "id": "108e5b91",
   "metadata": {},
   "outputs": [],
   "source": [
    "train_copy['Product_Category_2']=train_copy['Product_Category_2'].fillna(train_copy['Product_Category_2'].mean())\n",
    "train_copy['Product_Category_3']=train_copy['Product_Category_3'].fillna(train_copy['Product_Category_3'].mean())"
   ]
  },
  {
   "cell_type": "code",
   "execution_count": 202,
   "id": "f6207067",
   "metadata": {},
   "outputs": [
    {
     "data": {
      "text/plain": [
       "User_ID                       0\n",
       "Product_ID                    0\n",
       "Gender                        0\n",
       "Age                           0\n",
       "Occupation                    0\n",
       "City_Category                 0\n",
       "Stay_In_Current_City_Years    0\n",
       "Marital_Status                0\n",
       "Product_Category_1            0\n",
       "Product_Category_2            0\n",
       "Product_Category_3            0\n",
       "Purchase                      0\n",
       "dtype: int64"
      ]
     },
     "execution_count": 202,
     "metadata": {},
     "output_type": "execute_result"
    }
   ],
   "source": [
    "train_copy.isna().sum()"
   ]
  },
  {
   "cell_type": "code",
   "execution_count": 203,
   "id": "d74cf7e2",
   "metadata": {},
   "outputs": [
    {
     "data": {
      "text/plain": [
       "<AxesSubplot:xlabel='Product_Category_2'>"
      ]
     },
     "execution_count": 203,
     "metadata": {},
     "output_type": "execute_result"
    },
    {
     "data": {
      "image/png": "[encoded data removed]",
      "text/plain": [
       "<Figure size 576x360 with 1 Axes>"
      ]
     },
     "metadata": {
      "needs_background": "light"
     },
     "output_type": "display_data"
    }
   ],
   "source": [
    "plt.figure(figsize=(8,5))\n",
    "sns.boxplot('Product_Category_2',data=test_copy,palette='flare')"
   ]
  },
  {
   "cell_type": "code",
   "execution_count": 204,
   "id": "6a7f0bb1",
   "metadata": {},
   "outputs": [
    {
     "data": {
      "text/plain": [
       "<AxesSubplot:xlabel='Product_Category_3'>"
      ]
     },
     "execution_count": 204,
     "metadata": {},
     "output_type": "execute_result"
    },
    {
     "data": {
      "image/png": "[encoded data removed]",
      "text/plain": [
       "<Figure size 576x360 with 1 Axes>"
      ]
     },
     "metadata": {
      "needs_background": "light"
     },
     "output_type": "display_data"
    }
   ],
   "source": [
    "plt.figure(figsize=(8,5))\n",
    "sns.boxplot('Product_Category_3',data=test_copy,palette='flare')"
   ]
  },
  {
   "cell_type": "raw",
   "id": "edd7b32f",
   "metadata": {},
   "source": [
    "As there is no ouliers present in the data we can impute the missing values to the test data for Product_Category_2 using mean as the data type here is numerical"
   ]
  },
  {
   "cell_type": "code",
   "execution_count": 205,
   "id": "0746f39b",
   "metadata": {},
   "outputs": [],
   "source": [
    "test_copy['Product_Category_2']=test_copy['Product_Category_2'].fillna(test_copy['Product_Category_2'].mean())\n",
    "test_copy['Product_Category_3']=test_copy['Product_Category_3'].fillna(test_copy['Product_Category_3'].mean())"
   ]
  },
  {
   "cell_type": "code",
   "execution_count": 206,
   "id": "42f21e09",
   "metadata": {},
   "outputs": [
    {
     "data": {
      "text/plain": [
       "User_ID                       0\n",
       "Product_ID                    0\n",
       "Gender                        0\n",
       "Age                           0\n",
       "Occupation                    0\n",
       "City_Category                 0\n",
       "Stay_In_Current_City_Years    0\n",
       "Marital_Status                0\n",
       "Product_Category_1            0\n",
       "Product_Category_2            0\n",
       "Product_Category_3            0\n",
       "dtype: int64"
      ]
     },
     "execution_count": 206,
     "metadata": {},
     "output_type": "execute_result"
    }
   ],
   "source": [
    "test_copy.isna().sum()"
   ]
  },
  {
   "cell_type": "markdown",
   "id": "741fed60",
   "metadata": {},
   "source": [
    "#### Exploratory Data Analysis"
   ]
  },
  {
   "cell_type": "code",
   "execution_count": 207,
   "id": "df74f29e",
   "metadata": {},
   "outputs": [
    {
     "data": {
      "text/plain": [
       "0-17      15102\n",
       "55+       21504\n",
       "51-55     38501\n",
       "46-50     45701\n",
       "18-25     99660\n",
       "36-45    110013\n",
       "26-35    219587\n",
       "Name: Age, dtype: int64"
      ]
     },
     "execution_count": 207,
     "metadata": {},
     "output_type": "execute_result"
    }
   ],
   "source": [
    "train_copy['Age'].value_counts().sort_values()"
   ]
  },
  {
   "cell_type": "code",
   "execution_count": 208,
   "id": "10c15d06",
   "metadata": {},
   "outputs": [
    {
     "data": {
      "text/plain": [
       "<AxesSubplot:xlabel='Age', ylabel='count'>"
      ]
     },
     "execution_count": 208,
     "metadata": {},
     "output_type": "execute_result"
    },
    {
     "data": {
      "image/png": "[encoded data removed]",
      "text/plain": [
       "<Figure size 576x360 with 1 Axes>"
      ]
     },
     "metadata": {
      "needs_background": "light"
     },
     "output_type": "display_data"
    }
   ],
   "source": [
    "plt.figure(figsize=(8,5))\n",
    "sns.countplot('Age',data=train_copy)"
   ]
  },
  {
   "cell_type": "code",
   "execution_count": 209,
   "id": "c4916d9c",
   "metadata": {},
   "outputs": [
    {
     "data": {
      "text/plain": [
       "M    414259\n",
       "F    135809\n",
       "Name: Gender, dtype: int64"
      ]
     },
     "execution_count": 209,
     "metadata": {},
     "output_type": "execute_result"
    }
   ],
   "source": [
    "train_copy['Gender'].value_counts()"
   ]
  },
  {
   "cell_type": "code",
   "execution_count": 210,
   "id": "665efc41",
   "metadata": {},
   "outputs": [
    {
     "data": {
      "text/plain": [
       "<AxesSubplot:xlabel='Gender', ylabel='count'>"
      ]
     },
     "execution_count": 210,
     "metadata": {},
     "output_type": "execute_result"
    },
    {
     "data": {
      "image/png": "[encoded data removed]",
      "text/plain": [
       "<Figure size 576x360 with 1 Axes>"
      ]
     },
     "metadata": {
      "needs_background": "light"
     },
     "output_type": "display_data"
    }
   ],
   "source": [
    "plt.figure(figsize=(8,5))\n",
    "sns.countplot('Gender',data=train_copy)"
   ]
  },
  {
   "cell_type": "code",
   "execution_count": 211,
   "id": "82821a15",
   "metadata": {},
   "outputs": [
    {
     "data": {
      "text/plain": [
       "4     72308\n",
       "0     69638\n",
       "7     59133\n",
       "1     47426\n",
       "17    40043\n",
       "20    33562\n",
       "12    31179\n",
       "14    27309\n",
       "2     26588\n",
       "16    25371\n",
       "6     20355\n",
       "3     17650\n",
       "10    12930\n",
       "5     12177\n",
       "15    12165\n",
       "11    11586\n",
       "19     8461\n",
       "13     7728\n",
       "18     6622\n",
       "9      6291\n",
       "8      1546\n",
       "Name: Occupation, dtype: int64"
      ]
     },
     "execution_count": 211,
     "metadata": {},
     "output_type": "execute_result"
    }
   ],
   "source": [
    "train_copy['Occupation'].value_counts()"
   ]
  },
  {
   "cell_type": "code",
   "execution_count": 212,
   "id": "3dfcea14",
   "metadata": {},
   "outputs": [
    {
     "data": {
      "text/plain": [
       "<AxesSubplot:xlabel='Occupation', ylabel='count'>"
      ]
     },
     "execution_count": 212,
     "metadata": {},
     "output_type": "execute_result"
    },
    {
     "data": {
      "image/png": "[encoded data removed]",
      "text/plain": [
       "<Figure size 576x360 with 1 Axes>"
      ]
     },
     "metadata": {
      "needs_background": "light"
     },
     "output_type": "display_data"
    }
   ],
   "source": [
    "plt.figure(figsize=(8,5))\n",
    "sns.countplot('Occupation',data=train_copy,palette='flare')"
   ]
  },
  {
   "cell_type": "code",
   "execution_count": 213,
   "id": "a2ea7b6a",
   "metadata": {},
   "outputs": [
    {
     "data": {
      "text/plain": [
       "B    231173\n",
       "C    171175\n",
       "A    147720\n",
       "Name: City_Category, dtype: int64"
      ]
     },
     "execution_count": 213,
     "metadata": {},
     "output_type": "execute_result"
    }
   ],
   "source": [
    "train_copy['City_Category'].value_counts()"
   ]
  },
  {
   "cell_type": "code",
   "execution_count": 214,
   "id": "0fe820a0",
   "metadata": {},
   "outputs": [
    {
     "data": {
      "text/plain": [
       "<AxesSubplot:xlabel='City_Category', ylabel='count'>"
      ]
     },
     "execution_count": 214,
     "metadata": {},
     "output_type": "execute_result"
    },
    {
     "data": {
      "image/png": "[encoded data removed]",
      "text/plain": [
       "<Figure size 576x360 with 1 Axes>"
      ]
     },
     "metadata": {
      "needs_background": "light"
     },
     "output_type": "display_data"
    }
   ],
   "source": [
    "plt.figure(figsize=(8,5))\n",
    "sns.countplot('City_Category',data=train_copy,palette='twilight')"
   ]
  },
  {
   "cell_type": "code",
   "execution_count": 215,
   "id": "35ddf9a6",
   "metadata": {},
   "outputs": [
    {
     "data": {
      "text/plain": [
       "1     193821\n",
       "2     101838\n",
       "3      95285\n",
       "4+     84726\n",
       "0      74398\n",
       "Name: Stay_In_Current_City_Years, dtype: int64"
      ]
     },
     "execution_count": 215,
     "metadata": {},
     "output_type": "execute_result"
    }
   ],
   "source": [
    "train_copy['Stay_In_Current_City_Years'].value_counts()"
   ]
  },
  {
   "cell_type": "code",
   "execution_count": 216,
   "id": "6e530a3a",
   "metadata": {},
   "outputs": [
    {
     "data": {
      "text/plain": [
       "<AxesSubplot:xlabel='Stay_In_Current_City_Years', ylabel='count'>"
      ]
     },
     "execution_count": 216,
     "metadata": {},
     "output_type": "execute_result"
    },
    {
     "data": {
      "image/png": "[encoded data removed]",
      "text/plain": [
       "<Figure size 576x360 with 1 Axes>"
      ]
     },
     "metadata": {
      "needs_background": "light"
     },
     "output_type": "display_data"
    }
   ],
   "source": [
    "plt.figure(figsize=(8,5))\n",
    "sns.countplot('Stay_In_Current_City_Years',data=train_copy,palette='terrain_r')"
   ]
  },
  {
   "cell_type": "code",
   "execution_count": 217,
   "id": "95989a61",
   "metadata": {},
   "outputs": [
    {
     "data": {
      "text/plain": [
       "0    324731\n",
       "1    225337\n",
       "Name: Marital_Status, dtype: int64"
      ]
     },
     "execution_count": 217,
     "metadata": {},
     "output_type": "execute_result"
    }
   ],
   "source": [
    "train_copy['Marital_Status'].value_counts()"
   ]
  },
  {
   "cell_type": "code",
   "execution_count": 218,
   "id": "cdc3371b",
   "metadata": {
    "scrolled": true
   },
   "outputs": [
    {
     "data": {
      "text/plain": [
       "<AxesSubplot:xlabel='Marital_Status', ylabel='count'>"
      ]
     },
     "execution_count": 218,
     "metadata": {},
     "output_type": "execute_result"
    },
    {
     "data": {
      "image/png": "[encoded data removed]",
      "text/plain": [
       "<Figure size 576x360 with 1 Axes>"
      ]
     },
     "metadata": {
      "needs_background": "light"
     },
     "output_type": "display_data"
    }
   ],
   "source": [
    "plt.figure(figsize=(8,5))\n",
    "sns.countplot('Marital_Status',data=train_copy,palette='autumn')"
   ]
  },
  {
   "cell_type": "code",
   "execution_count": 219,
   "id": "ba2e2f35",
   "metadata": {},
   "outputs": [
    {
     "data": {
      "text/plain": [
       "<AxesSubplot:xlabel='Age', ylabel='Purchase'>"
      ]
     },
     "execution_count": 219,
     "metadata": {},
     "output_type": "execute_result"
    },
    {
     "data": {
      "image/png": "[encoded data removed]",
      "text/plain": [
       "<Figure size 576x360 with 1 Axes>"
      ]
     },
     "metadata": {
      "needs_background": "light"
     },
     "output_type": "display_data"
    }
   ],
   "source": [
    "plt.figure(figsize=(8,5))\n",
    "sns.barplot('Age','Purchase',data=train_copy,palette='flare')"
   ]
  },
  {
   "cell_type": "code",
   "execution_count": 220,
   "id": "7a367ca9",
   "metadata": {},
   "outputs": [
    {
     "data": {
      "text/plain": [
       "<AxesSubplot:xlabel='Stay_In_Current_City_Years', ylabel='Purchase'>"
      ]
     },
     "execution_count": 220,
     "metadata": {},
     "output_type": "execute_result"
    },
    {
     "data": {
      "image/png": "[encoded data removed]",
      "text/plain": [
       "<Figure size 576x360 with 1 Axes>"
      ]
     },
     "metadata": {
      "needs_background": "light"
     },
     "output_type": "display_data"
    }
   ],
   "source": [
    "plt.figure(figsize=(8,5))\n",
    "sns.barplot('Stay_In_Current_City_Years','Purchase',data=train_copy,palette='flare')"
   ]
  },
  {
   "cell_type": "code",
   "execution_count": 221,
   "id": "7c94f405",
   "metadata": {},
   "outputs": [],
   "source": [
    "train_preprocess=train_copy\n",
    "test_preprocess=test_copy"
   ]
  },
  {
   "cell_type": "markdown",
   "id": "3b3e3815",
   "metadata": {},
   "source": [
    "#### Applying Label encoder for 'User_ID' ,'Product_ID'"
   ]
  },
  {
   "cell_type": "code",
   "execution_count": 222,
   "id": "c8d9d42f",
   "metadata": {},
   "outputs": [],
   "source": [
    "train_preprocess['User_ID']=le.fit_transform(train_preprocess['User_ID'])\n",
    "test_preprocess['User_ID']=le.fit_transform(test_preprocess['User_ID'])"
   ]
  },
  {
   "cell_type": "code",
   "execution_count": 223,
   "id": "23d49052",
   "metadata": {},
   "outputs": [],
   "source": [
    "train_preprocess['Product_ID']=le.fit_transform(train_preprocess['Product_ID'])\n",
    "test_preprocess['Product_ID']=le.fit_transform(test_preprocess['Product_ID'])"
   ]
  },
  {
   "cell_type": "markdown",
   "id": "bb195901",
   "metadata": {},
   "source": [
    "#### Using Data engineering techniques for Age, Stay_In_Current_City_Years"
   ]
  },
  {
   "cell_type": "code",
   "execution_count": 224,
   "id": "b858e01c",
   "metadata": {},
   "outputs": [
    {
     "data": {
      "text/plain": [
       "array(['0-17', '55+', '26-35', '46-50', '51-55', '36-45', '18-25'],\n",
       "      dtype=object)"
      ]
     },
     "execution_count": 224,
     "metadata": {},
     "output_type": "execute_result"
    }
   ],
   "source": [
    "train_preprocess['Age'].unique()"
   ]
  },
  {
   "cell_type": "code",
   "execution_count": 225,
   "id": "c965e814",
   "metadata": {},
   "outputs": [],
   "source": [
    "train_preprocess['Age']=train_preprocess['Age'].map({'0-17':17,'55+':60,'26-35':35,\n",
    "                                                    '46-50':50,'51-55':55,'36-45':45,'18-25':25})"
   ]
  },
  {
   "cell_type": "code",
   "execution_count": 226,
   "id": "39bb15bc",
   "metadata": {},
   "outputs": [],
   "source": [
    "test_preprocess['Age']=test_preprocess['Age'].map({'0-17':17,'55+':60,'26-35':35,\n",
    "                                                    '46-50':50,'51-55':55,'36-45':45,'18-25':25})"
   ]
  },
  {
   "cell_type": "code",
   "execution_count": 227,
   "id": "4620aba7",
   "metadata": {},
   "outputs": [
    {
     "data": {
      "text/plain": [
       "array(['2', '4+', '3', '1', '0'], dtype=object)"
      ]
     },
     "execution_count": 227,
     "metadata": {},
     "output_type": "execute_result"
    }
   ],
   "source": [
    "train_preprocess['Stay_In_Current_City_Years'].unique()"
   ]
  },
  {
   "cell_type": "code",
   "execution_count": 228,
   "id": "a7702d3b",
   "metadata": {},
   "outputs": [],
   "source": [
    "train_preprocess['Stay_In_Current_City_Years']=train_preprocess['Stay_In_Current_City_Years'].map({'2':2,'4+':4,\n",
    "                                                                                                  '3':3,'1':1,'0':0})"
   ]
  },
  {
   "cell_type": "code",
   "execution_count": 229,
   "id": "38dfd7ef",
   "metadata": {},
   "outputs": [],
   "source": [
    "test_preprocess['Stay_In_Current_City_Years']=test_preprocess['Stay_In_Current_City_Years'].map({'2':2,'4+':4,\n",
    "                                                                                                  '3':3,'1':1,'0':0})"
   ]
  },
  {
   "cell_type": "markdown",
   "id": "46fe05d8",
   "metadata": {},
   "source": [
    "#### Applying Label encoder for the categorical Variables"
   ]
  },
  {
   "cell_type": "code",
   "execution_count": 230,
   "id": "fec45574",
   "metadata": {},
   "outputs": [],
   "source": [
    "categorical_train_preprocess=train_preprocess.select_dtypes(include=[np.object]).columns\n",
    "le=LabelEncoder()\n",
    "for col in categorical_train_preprocess:\n",
    "    train_preprocess[col]=le.fit_transform(train_preprocess[col])\n",
    "    "
   ]
  },
  {
   "cell_type": "code",
   "execution_count": 231,
   "id": "de4a6326",
   "metadata": {},
   "outputs": [],
   "source": [
    "categorical_test_preprocess=test_preprocess.select_dtypes(include=[np.object]).columns\n",
    "for cols in categorical_test_preprocess:\n",
    "    test_preprocess[cols]=le.fit_transform(test_preprocess[cols])"
   ]
  },
  {
   "cell_type": "code",
   "execution_count": 232,
   "id": "f1972d02",
   "metadata": {},
   "outputs": [
    {
     "data": {
      "text/html": [
       "<div>\n",
       "<style scoped>\n",
       "    .dataframe tbody tr th:only-of-type {\n",
       "        vertical-align: middle;\n",
       "    }\n",
       "\n",
       "    .dataframe tbody tr th {\n",
       "        vertical-align: top;\n",
       "    }\n",
       "\n",
       "    .dataframe thead th {\n",
       "        text-align: right;\n",
       "    }\n",
       "</style>\n",
       "<table border=\"1\" class=\"dataframe\">\n",
       "  <thead>\n",
       "    <tr style=\"text-align: right;\">\n",
       "      <th></th>\n",
       "      <th>User_ID</th>\n",
       "      <th>Product_ID</th>\n",
       "      <th>Gender</th>\n",
       "      <th>Age</th>\n",
       "      <th>Occupation</th>\n",
       "      <th>City_Category</th>\n",
       "      <th>Stay_In_Current_City_Years</th>\n",
       "      <th>Marital_Status</th>\n",
       "      <th>Product_Category_1</th>\n",
       "      <th>Product_Category_2</th>\n",
       "      <th>Product_Category_3</th>\n",
       "      <th>Purchase</th>\n",
       "    </tr>\n",
       "  </thead>\n",
       "  <tbody>\n",
       "    <tr>\n",
       "      <th>0</th>\n",
       "      <td>0</td>\n",
       "      <td>672</td>\n",
       "      <td>0</td>\n",
       "      <td>17</td>\n",
       "      <td>10</td>\n",
       "      <td>0</td>\n",
       "      <td>2</td>\n",
       "      <td>0</td>\n",
       "      <td>3</td>\n",
       "      <td>9.842329</td>\n",
       "      <td>12.668243</td>\n",
       "      <td>8370</td>\n",
       "    </tr>\n",
       "    <tr>\n",
       "      <th>1</th>\n",
       "      <td>0</td>\n",
       "      <td>2376</td>\n",
       "      <td>0</td>\n",
       "      <td>17</td>\n",
       "      <td>10</td>\n",
       "      <td>0</td>\n",
       "      <td>2</td>\n",
       "      <td>0</td>\n",
       "      <td>1</td>\n",
       "      <td>6.000000</td>\n",
       "      <td>14.000000</td>\n",
       "      <td>15200</td>\n",
       "    </tr>\n",
       "    <tr>\n",
       "      <th>2</th>\n",
       "      <td>0</td>\n",
       "      <td>852</td>\n",
       "      <td>0</td>\n",
       "      <td>17</td>\n",
       "      <td>10</td>\n",
       "      <td>0</td>\n",
       "      <td>2</td>\n",
       "      <td>0</td>\n",
       "      <td>12</td>\n",
       "      <td>9.842329</td>\n",
       "      <td>12.668243</td>\n",
       "      <td>1422</td>\n",
       "    </tr>\n",
       "    <tr>\n",
       "      <th>3</th>\n",
       "      <td>0</td>\n",
       "      <td>828</td>\n",
       "      <td>0</td>\n",
       "      <td>17</td>\n",
       "      <td>10</td>\n",
       "      <td>0</td>\n",
       "      <td>2</td>\n",
       "      <td>0</td>\n",
       "      <td>12</td>\n",
       "      <td>14.000000</td>\n",
       "      <td>12.668243</td>\n",
       "      <td>1057</td>\n",
       "    </tr>\n",
       "    <tr>\n",
       "      <th>4</th>\n",
       "      <td>1</td>\n",
       "      <td>2734</td>\n",
       "      <td>1</td>\n",
       "      <td>60</td>\n",
       "      <td>16</td>\n",
       "      <td>2</td>\n",
       "      <td>4</td>\n",
       "      <td>0</td>\n",
       "      <td>8</td>\n",
       "      <td>9.842329</td>\n",
       "      <td>12.668243</td>\n",
       "      <td>7969</td>\n",
       "    </tr>\n",
       "  </tbody>\n",
       "</table>\n",
       "</div>"
      ],
      "text/plain": [
       "   User_ID  Product_ID  Gender  Age  Occupation  City_Category  \\\n",
       "0        0         672       0   17          10              0   \n",
       "1        0        2376       0   17          10              0   \n",
       "2        0         852       0   17          10              0   \n",
       "3        0         828       0   17          10              0   \n",
       "4        1        2734       1   60          16              2   \n",
       "\n",
       "   Stay_In_Current_City_Years  Marital_Status  Product_Category_1  \\\n",
       "0                           2               0                   3   \n",
       "1                           2               0                   1   \n",
       "2                           2               0                  12   \n",
       "3                           2               0                  12   \n",
       "4                           4               0                   8   \n",
       "\n",
       "   Product_Category_2  Product_Category_3  Purchase  \n",
       "0            9.842329           12.668243      8370  \n",
       "1            6.000000           14.000000     15200  \n",
       "2            9.842329           12.668243      1422  \n",
       "3           14.000000           12.668243      1057  \n",
       "4            9.842329           12.668243      7969  "
      ]
     },
     "execution_count": 232,
     "metadata": {},
     "output_type": "execute_result"
    }
   ],
   "source": [
    "train_preprocess.head()"
   ]
  },
  {
   "cell_type": "markdown",
   "id": "cee6b93f",
   "metadata": {},
   "source": [
    "#### Model Building"
   ]
  },
  {
   "cell_type": "code",
   "execution_count": 233,
   "id": "e8e6483a",
   "metadata": {},
   "outputs": [],
   "source": [
    "x= train_preprocess.drop(['Purchase'],axis=1)\n",
    "y=train_preprocess['Purchase']\n",
    "test_x=test_preprocess"
   ]
  },
  {
   "cell_type": "code",
   "execution_count": 234,
   "id": "02ced34b",
   "metadata": {},
   "outputs": [],
   "source": [
    "train_x,val_x,train_y,val_y=train_test_split(x,y,test_size=0.2,random_state=42,shuffle=True)"
   ]
  },
  {
   "cell_type": "markdown",
   "id": "df5e0f9c",
   "metadata": {},
   "source": [
    "#### 1. Linear Regression"
   ]
  },
  {
   "cell_type": "code",
   "execution_count": 254,
   "id": "959f3043",
   "metadata": {},
   "outputs": [],
   "source": [
    "lr=LinearRegression()\n",
    "lr_model=lr.fit(train_x,train_y)\n",
    "pred_lr=lr_model.predict(val_x)"
   ]
  },
  {
   "cell_type": "code",
   "execution_count": 255,
   "id": "627dea1d",
   "metadata": {},
   "outputs": [
    {
     "data": {
      "text/plain": [
       "21708175.443769187"
      ]
     },
     "execution_count": 255,
     "metadata": {},
     "output_type": "execute_result"
    }
   ],
   "source": [
    "mse=mean_squared_error(predict,val_y)\n",
    "mse"
   ]
  },
  {
   "cell_type": "code",
   "execution_count": 256,
   "id": "acad546c",
   "metadata": {},
   "outputs": [
    {
     "name": "stdout",
     "output_type": "stream",
     "text": [
      "RMSE for Linear Regression: 4659.203305691777\n"
     ]
    }
   ],
   "source": [
    "rmse_lr=np.sqrt(mean_squared_error(val_y,predict))\n",
    "print(\"RMSE for Linear Regression:\", rmse_lr)"
   ]
  },
  {
   "cell_type": "code",
   "execution_count": 257,
   "id": "578052e0",
   "metadata": {},
   "outputs": [],
   "source": [
    "features_lr=x.columns\n",
    "coeff_lr=lr_model.coef_\n",
    "coefficients_lr=pd.Series(lr_model.coef_,features)"
   ]
  },
  {
   "cell_type": "code",
   "execution_count": 258,
   "id": "668ef7c6",
   "metadata": {
    "scrolled": true
   },
   "outputs": [
    {
     "data": {
      "text/plain": [
       "<AxesSubplot:>"
      ]
     },
     "execution_count": 258,
     "metadata": {},
     "output_type": "execute_result"
    },
    {
     "data": {
      "image/png": "[encoded data removed]",
      "text/plain": [
       "<Figure size 576x360 with 1 Axes>"
      ]
     },
     "metadata": {
      "needs_background": "light"
     },
     "output_type": "display_data"
    }
   ],
   "source": [
    "plt.figure(figsize=(8,5))\n",
    "sns.barplot(x=coeff,y=features)"
   ]
  },
  {
   "cell_type": "raw",
   "id": "53457721",
   "metadata": {},
   "source": [
    "The RMSE obtained for Linear Regression is 4659.20 and it is found that the Gender,city_category and product_category_3 has positive significance."
   ]
  },
  {
   "cell_type": "markdown",
   "id": "1da2ef32",
   "metadata": {},
   "source": [
    "#### 2. XGBoost Regressor"
   ]
  },
  {
   "cell_type": "code",
   "execution_count": 240,
   "id": "412fdc93",
   "metadata": {},
   "outputs": [
    {
     "data": {
      "text/plain": [
       "XGBRegressor(base_score=0.5, booster='gbtree', colsample_bylevel=1,\n",
       "             colsample_bynode=1, colsample_bytree=1, gamma=0, gpu_id=-1,\n",
       "             importance_type='gain', interaction_constraints='',\n",
       "             learning_rate=1.0, max_delta_step=0, max_depth=6,\n",
       "             min_child_weight=40, missing=nan, monotone_constraints='()',\n",
       "             n_estimators=100, n_jobs=4, num_parallel_tree=1, random_state=0,\n",
       "             reg_alpha=0, reg_lambda=1, scale_pos_weight=1, seed=0, subsample=1,\n",
       "             tree_method='exact', validate_parameters=1, verbosity=None)"
      ]
     },
     "execution_count": 240,
     "metadata": {},
     "output_type": "execute_result"
    }
   ],
   "source": [
    "xgb_reg = XGBRegressor(learning_rate=1.0, max_depth=6, min_child_weight=40, seed=0)\n",
    "xgb_reg.fit(train_x,train_y)"
   ]
  },
  {
   "cell_type": "code",
   "execution_count": 259,
   "id": "b0fcab1d",
   "metadata": {},
   "outputs": [
    {
     "name": "stdout",
     "output_type": "stream",
     "text": [
      "RMSE for XGBoost Regressor: 2505.6292801929458\n"
     ]
    }
   ],
   "source": [
    "pred_xgb=xgb_reg.predict(val_x)\n",
    "rmse_xgb = np.sqrt(mean_squared_error(pred_y,val_y))\n",
    "print(\"RMSE for XGBoost Regressor:\", rmse_xgb)"
   ]
  },
  {
   "cell_type": "markdown",
   "id": "f0145809",
   "metadata": {},
   "source": [
    "#### 3. RandomForest Regressor"
   ]
  },
  {
   "cell_type": "code",
   "execution_count": 249,
   "id": "6cb929f7",
   "metadata": {},
   "outputs": [
    {
     "data": {
      "text/plain": [
       "RandomForestRegressor(max_depth=2, random_state=0)"
      ]
     },
     "execution_count": 249,
     "metadata": {},
     "output_type": "execute_result"
    }
   ],
   "source": [
    "rf_reg=RandomForestRegressor(max_depth=2, random_state=0)\n",
    "rf_reg.fit(train_x,train_y)\n"
   ]
  },
  {
   "cell_type": "code",
   "execution_count": 260,
   "id": "0c57fe60",
   "metadata": {},
   "outputs": [
    {
     "name": "stdout",
     "output_type": "stream",
     "text": [
      "RMSE for Random Forest: 4163.747031944405\n"
     ]
    }
   ],
   "source": [
    "pred_rf=rf_reg.predict(val_x)\n",
    "rmse_rf=np.sqrt(mean_squared_error(pred_rf,val_y))\n",
    "print(\"RMSE for Random Forest:\",rmse_rf)"
   ]
  },
  {
   "cell_type": "markdown",
   "id": "b64740c9",
   "metadata": {},
   "source": [
    "#### 4. AdaBoost Regressor"
   ]
  },
  {
   "cell_type": "code",
   "execution_count": 261,
   "id": "5674ad0b",
   "metadata": {},
   "outputs": [
    {
     "data": {
      "text/plain": [
       "AdaBoostRegressor(n_estimators=100, random_state=0)"
      ]
     },
     "execution_count": 261,
     "metadata": {},
     "output_type": "execute_result"
    }
   ],
   "source": [
    "adb_reg=AdaBoostRegressor(n_estimators=100,random_state=0)\n",
    "adb_reg.fit(train_x,train_y)"
   ]
  },
  {
   "cell_type": "code",
   "execution_count": 263,
   "id": "89cb3da3",
   "metadata": {},
   "outputs": [
    {
     "name": "stdout",
     "output_type": "stream",
     "text": [
      "RMSE for Adaboost Regressor: 3595.007906514239\n"
     ]
    }
   ],
   "source": [
    "pred_adb=adb_reg.predict(val_x)\n",
    "rmse_adb=np.sqrt(mean_squared_error(pred_adb,val_y))\n",
    "print(\"RMSE for Adaboost Regressor:\",rmse_adb)\n"
   ]
  },
  {
   "cell_type": "markdown",
   "id": "b7c40698",
   "metadata": {},
   "source": [
    "#### 5. Gradient Boosting Regressor"
   ]
  },
  {
   "cell_type": "code",
   "execution_count": 264,
   "id": "96debf44",
   "metadata": {},
   "outputs": [
    {
     "data": {
      "text/plain": [
       "GradientBoostingRegressor(learning_rate=1.0, random_state=0)"
      ]
     },
     "execution_count": 264,
     "metadata": {},
     "output_type": "execute_result"
    }
   ],
   "source": [
    "grad_reg=GradientBoostingRegressor(n_estimators=100, learning_rate=1.0, random_state=0)\n",
    "grad_reg.fit(train_x,train_y)"
   ]
  },
  {
   "cell_type": "code",
   "execution_count": 265,
   "id": "428ee517",
   "metadata": {},
   "outputs": [
    {
     "name": "stdout",
     "output_type": "stream",
     "text": [
      "RMSE for Gradient Boosting Regressor: 2756.5231625627925\n"
     ]
    }
   ],
   "source": [
    "pred_grad=grad_reg.predict(val_x)\n",
    "rmse_grad=np.sqrt(mean_squared_error(pred_grad,val_y))\n",
    "print(\"RMSE for Gradient Boosting Regressor:\",rmse_grad)\n"
   ]
  },
  {
   "cell_type": "raw",
   "id": "bb7ac292",
   "metadata": {},
   "source": [
    "The regression models used for prediction are Linear regression, XG boost regressor,Random forest Regressor Adaboosting regressor, Gradient Boosting Regressor. The RMSE found are mentioned below...\n",
    "For Linear regression : 4659.20\n",
    "    XG Boost Regressor : 2505.629\n",
    "    RandomForest Regressor : 4163.74\n",
    "    Adaboosting Regressor : 3595.00\n",
    "    Gradient Boosting Regressor :  2756.52\n",
    "It is found that the RMSE for XG Boost regressor is lesser than other regression models and this model can be used for further prediction."
   ]
  },
  {
   "cell_type": "code",
   "execution_count": 266,
   "id": "67cbfb5b",
   "metadata": {},
   "outputs": [],
   "source": [
    "xgb_reg.fit(x, y)\n",
    "predict_final = xgb_reg.predict(test_x)\n",
    "\n",
    "submission['Purchase'] = predict_final\n",
    "submission.to_csv('sample_submission_V9Inaty.csv', index=False)"
   ]
  },
  {
   "cell_type": "markdown",
   "id": "959419c5",
   "metadata": {},
   "source": [
    "#### Analytics Vidya LB Score : 2948.87"
   ]
  },
  {
   "cell_type": "code",
   "execution_count": null,
   "id": "07c535b7",
   "metadata": {},
   "outputs": [],
   "source": []
  }
 ],
 "metadata": {
  "kernelspec": {
   "display_name": "Python 3",
   "language": "python",
   "name": "python3"
  },
  "language_info": {
   "codemirror_mode": {
    "name": "ipython",
    "version": 3
   },
   "file_extension": ".py",
   "mimetype": "text/x-python",
   "name": "python",
   "nbconvert_exporter": "python",
   "pygments_lexer": "ipython3",
   "version": "3.8.8"
  }
 },
 "nbformat": 4,
 "nbformat_minor": 5
}
